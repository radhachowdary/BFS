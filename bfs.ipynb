// for weighted graph
def bfs(graph, start):
    queue = deque([start])
    visited = set([start])
    
    while queue:
        node = queue.popleft()
        print(node, end=" ")
        
        for neighbor in graph.get(node, []):
            if neighbor not in visited:
                visited.add(neighbor)
                queue.append(neighbor)
graph = {
    's': ['A', 'B'],
    'A': ['C', 'D'],
    'B': ['D'],
    'C': ['t'],
    'D': ['t'],
    't': []
}

print("BFS Traversal:")
bfs(graph, 's')

// for unweighted graph//
from collections import deque

def bfs_shortest_path(graph, start, goal):
    queue = deque([(start, [start])])
    visited = set()

    while queue:
        node, path = queue.popleft()
        if node == goal:
            return path
        
        if node not in visited:
            visited.add(node)
            for neighbor in graph.get(node, []):
                queue.append((neighbor, path + [neighbor]))
    
    return None  

graph = {
    's': ['A', 'B'],
    'A': ['C', 'D'],
    'B': ['D'],
    'C': ['t'],
    'D': ['t'],
    't': []
}

print("Shortest Path:", bfs_shortest_path(graph, 's', 't'))

